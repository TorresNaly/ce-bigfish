{
 "cells": [
  {
   "cell_type": "markdown",
   "id": "5f33886f",
   "metadata": {
    "tags": []
   },
   "source": [
    "## NAS connection and batch download to local env"
   ]
  },
  {
   "cell_type": "code",
   "execution_count": null,
   "id": "4ce74150-8532-4503-9d01-227f64753d8a",
   "metadata": {
    "jupyter": {
     "source_hidden": true
    },
    "tags": []
   },
   "outputs": [],
   "source": [
    "#Load packages\n",
    "from smb.SMBConnection import SMBConnection\n",
    "import os\n",
    "import tempfile\n",
    "import re\n",
    "import shutil"
   ]
  },
  {
   "cell_type": "markdown",
   "id": "e5384b96-7c30-4b19-af9a-280f0f63404a",
   "metadata": {
    "tags": []
   },
   "source": [
    "#### Experiment info:"
   ]
  },
  {
   "cell_type": "code",
   "execution_count": null,
   "id": "c99faec6-201e-4e6b-8439-6f803f10fb0b",
   "metadata": {},
   "outputs": [],
   "source": [
    "#specify the parent directory for a condition and the local download directory\n",
    "condition_directory_path = '' # /your/parent/directory\n",
    "local_download_directory = '' # /your/local/download/directory\n",
    "\n",
    "#edit three lines below\n",
    "rep1 = ''# your_rep1\n",
    "rep2 = '' # your_rep2\n",
    "rep3 = '' # your_rep3\n",
    "\n",
    "# NAS credentials and connection information\n",
    "nas_host = '' #nas.server.hostname.or.ip'\n",
    "nas_user = '' #your_username\n",
    "nas_password = '' #your_password\n"
   ]
  },
  {
   "cell_type": "markdown",
   "id": "43794ee9-3f35-49e3-88bf-b20c53bf58ad",
   "metadata": {},
   "source": [
    "### <font color='red'>STOP!</font> Do not edit below this line"
   ]
  },
  {
   "cell_type": "markdown",
   "id": "eabd1bc2",
   "metadata": {
    "tags": []
   },
   "source": [
    "#### 1.1 Connecto to the NAS"
   ]
  },
  {
   "cell_type": "code",
   "execution_count": null,
   "id": "fbdc2c7b",
   "metadata": {
    "jupyter": {
     "source_hidden": true
    },
    "tags": []
   },
   "outputs": [],
   "source": [
    "#make individual input directories\n",
    "condition = condition_directory_path.split(os.path.sep)[-1]\n",
    "local_download_directory = os.path.join(local_download_directory, condition) #change to where you want to download your temp files\n",
    "\n",
    "# Connect to the NAS\n",
    "nas_share = 'WormHole'\n",
    "conn = SMBConnection(nas_user, nas_password, 'python-client', nas_host, use_ntlm_v2=True)\n",
    "conn.connect(nas_host, 445)\n",
    "\n",
    "# Check if connection is successfully established\n",
    "smb_directory_path = os.path.relpath(condition_directory_path, '/Volumes/WormHole')\n",
    "print(\"SMB directory path:\", smb_directory_path)\n",
    "shared_files = conn.listPath(nas_share, smb_directory_path) # move into folder with raw data\n",
    "# shared_files = conn.listPath(nas_share, '/')\n",
    "reps = [rep1, rep2, rep3]\n",
    "\n",
    "rep1_path = os.path.join(smb_directory_path, rep1)\n",
    "rep2_path = os.path.join(smb_directory_path, rep2) \n",
    "rep3_path = os.path.join(smb_directory_path, rep3)\n",
    "\n",
    "reps_paths = [rep1_path, rep2_path, rep3_path]\n",
    "    \n",
    "# Check if the listing was successful (connection is established)\n",
    "if shared_files:\n",
    "    print(\"Connection is established.\")\n",
    "else:\n",
    "    print(\"Connection is not established.\")\n",
    "\n",
    "    "
   ]
  },
  {
   "cell_type": "markdown",
   "id": "2db5dbe2",
   "metadata": {
    "tags": []
   },
   "source": [
    "#### 1.2 Download and organize for batch processing"
   ]
  },
  {
   "cell_type": "code",
   "execution_count": null,
   "id": "f698e8a0-c41f-4310-b2b4-a37c1893a5d0",
   "metadata": {
    "jupyter": {
     "source_hidden": true
    },
    "tags": []
   },
   "outputs": [],
   "source": [
    "reps_directories = []\n",
    "\n",
    "for smb_directory_path in reps_paths:\n",
    "    rep_name = smb_directory_path.split(os.path.sep)[-1]\n",
    "    rep_input_directory = os.path.join(local_download_directory, rep_name, 'input')\n",
    "    \n",
    "    if not os.path.exists(rep_input_directory):\n",
    "        os.makedirs(rep_input_directory)\n",
    "        print(f\"Directory '{rep_input_directory}' created.\")\n",
    "        \n",
    "    \n",
    "    reps_directories.append(rep_input_directory)\n",
    "\n",
    "    shared_files = conn.listPath(nas_share, smb_directory_path)\n",
    "\n",
    "    dv_paths = []\n",
    "    for shared_file in shared_files:\n",
    "        file_path = os.path.join(smb_directory_path, shared_file.filename) \n",
    "        if shared_file.filename.endswith(\"_R3D.dv\") or shared_file.filename.endswith(\"_R3D_REF.dv\"):\n",
    "            dv_paths.append(file_path)\n",
    "\n",
    "    filenames = [shared_file.filename for shared_file in shared_files if shared_file.filename.endswith((\"_R3D.dv\",\"_R3D_REF.dv\"))]\n",
    "\n",
    "    for remote_path in dv_paths:\n",
    "        filename = os.path.basename(remote_path)\n",
    "        local_path = os.path.join(rep_input_directory, filename)\n",
    "        with open(local_path, 'wb') as local_file:\n",
    "            conn.retrieveFile(nas_share, remote_path, local_file)\n",
    "            \n",
    "                # Create a list to store the files to be moved\n",
    "    files_to_move = []\n",
    "    image_numbers = []\n",
    "    corrupted_files = []\n",
    "    # Define a regular expression pattern to extract the numeric identifier\n",
    "    pattern = r'_(\\d+)_R3D(?:|_REF)\\.dv$'\n",
    "\n",
    "    # Iterate through the files in the directory\n",
    "    for filename in os.listdir(rep_input_directory):\n",
    "        match = re.search(pattern, filename)\n",
    "        if match:\n",
    "            # Extract the numeric identifier from the matched pattern\n",
    "            image_number = match.group(1)\n",
    "            files_to_move.append((filename, image_number))   \n",
    "\n",
    "    # Iterate through the files to be moved\n",
    "    for filename, image_number in files_to_move:\n",
    "        # Create a new folder named after the image number\n",
    "        new_folder = os.path.join(rep_input_directory, image_number)\n",
    "        os.makedirs(new_folder, exist_ok=True)\n",
    "\n",
    "        # Construct the source and destination file paths\n",
    "        source_path = os.path.join(rep_input_directory, filename)\n",
    "        destination_path = os.path.join(new_folder, filename)\n",
    "\n",
    "        # count if there are two files, and sort them in their new directories. Move the file to the new folder\n",
    "        shutil.move(source_path, destination_path)\n",
    "\n",
    "    print(f'All files organized in subdirectories')\n"
   ]
  },
  {
   "cell_type": "markdown",
   "id": "61dc6b64-baf3-4fe1-86bb-f7bf922de58f",
   "metadata": {},
   "source": [
    "##### Last edited Jan 29th 2024 by Naly Torres (version 1.0)"
   ]
  }
 ],
 "metadata": {
  "kernelspec": {
   "display_name": "Python 3",
   "language": "python",
   "name": "python3"
  },
  "language_info": {
   "codemirror_mode": {
    "name": "ipython",
    "version": 3
   },
   "file_extension": ".py",
   "mimetype": "text/x-python",
   "name": "python",
   "nbconvert_exporter": "python",
   "pygments_lexer": "ipython3",
   "version": "3.6.13"
  }
 },
 "nbformat": 4,
 "nbformat_minor": 5
}
