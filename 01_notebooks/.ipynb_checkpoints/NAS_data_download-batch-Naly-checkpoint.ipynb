{
 "cells": [
  {
   "cell_type": "markdown",
   "id": "5f33886f",
   "metadata": {
    "tags": []
   },
   "source": [
    "## NAS connection and batch download to local env"
   ]
  },
  {
   "cell_type": "code",
   "execution_count": 1,
   "id": "4ce74150-8532-4503-9d01-227f64753d8a",
   "metadata": {
    "tags": []
   },
   "outputs": [],
   "source": [
    "#Load packages\n",
    "from smb.SMBConnection import SMBConnection\n",
    "import os\n",
    "import tempfile\n",
    "import re\n",
    "import shutil"
   ]
  },
  {
   "cell_type": "markdown",
   "id": "e5384b96-7c30-4b19-af9a-280f0f63404a",
   "metadata": {
    "tags": []
   },
   "source": [
    "#### Experiment info:"
   ]
  },
  {
   "cell_type": "code",
   "execution_count": 2,
   "id": "c99faec6-201e-4e6b-8439-6f803f10fb0b",
   "metadata": {},
   "outputs": [],
   "source": [
    "#specify the parent directory for a condition and the local download directory\n",
    "condition_directory_path = '/Volumes/WormHole/karissa/02_Greentein_collab/01_smFISH/DG3913_smFISH'\n",
    "local_download_directory = '/Users/nalytorres/Documents/01_bigfish/02_data'\n",
    "\n",
    "#edit three lines below\n",
    "rep1 = '230503_DG3913_lin-41_spn-4'\n",
    "rep2 = '230505_DG3913_lin-41_set-3_rep1'\n",
    "rep3 = '230726_DG3913_lin-41_set-3_rep5'\n",
    "\n",
    "# NAS credentials and connection information\n",
    "nas_host = '129.82.125.224' #nas_server_hostname_or_ip'\n",
    "nas_user = 'nalyt' #your_username\n",
    "nas_password = 'OA7LNjjfK@f05S' #your_password\n"
   ]
  },
  {
   "cell_type": "markdown",
   "id": "43794ee9-3f35-49e3-88bf-b20c53bf58ad",
   "metadata": {},
   "source": [
    "### <font color='red'>STOP!</font> Do not edit below this line"
   ]
  },
  {
   "cell_type": "markdown",
   "id": "eabd1bc2",
   "metadata": {
    "tags": []
   },
   "source": [
    "#### 1.1 Connecto to the NAS"
   ]
  },
  {
   "cell_type": "code",
   "execution_count": 3,
   "id": "fbdc2c7b",
   "metadata": {
    "jupyter": {
     "source_hidden": true
    },
    "tags": []
   },
   "outputs": [
    {
     "name": "stdout",
     "output_type": "stream",
     "text": [
      "SMB directory path: karissa/02_Greentein_collab/01_smFISH/DG3913_smFISH\n",
      "Connection is established.\n"
     ]
    }
   ],
   "source": [
    "#make individual input directories\n",
    "condition = condition_directory_path.split(os.path.sep)[-1]\n",
    "local_download_directory = os.path.join(local_download_directory, condition) #change to where you want to download your temp files\n",
    "\n",
    "# Connect to the NAS\n",
    "nas_share = 'WormHole'\n",
    "conn = SMBConnection(nas_user, nas_password, 'python-client', nas_host, use_ntlm_v2=True)\n",
    "conn.connect(nas_host, 445)\n",
    "\n",
    "# Check if connection is successfully established\n",
    "smb_directory_path = os.path.relpath(condition_directory_path, '/Volumes/WormHole')\n",
    "print(\"SMB directory path:\", smb_directory_path)\n",
    "shared_files = conn.listPath(nas_share, smb_directory_path) # move into folder with raw data\n",
    "# shared_files = conn.listPath(nas_share, '/')\n",
    "reps = [rep1, rep2, rep3]\n",
    "\n",
    "rep1_path = os.path.join(smb_directory_path, rep1)\n",
    "rep2_path = os.path.join(smb_directory_path, rep2) \n",
    "rep3_path = os.path.join(smb_directory_path, rep3)\n",
    "\n",
    "reps_paths = [rep1_path, rep2_path, rep3_path]\n",
    "    \n",
    "# Check if the listing was successful (connection is established)\n",
    "if shared_files:\n",
    "    print(\"Connection is established.\")\n",
    "else:\n",
    "    print(\"Connection is not established.\")\n",
    "\n",
    "    "
   ]
  },
  {
   "cell_type": "markdown",
   "id": "2db5dbe2",
   "metadata": {
    "tags": []
   },
   "source": [
    "#### 1.2 Download and organize for batch processing"
   ]
  },
  {
   "cell_type": "code",
   "execution_count": 5,
   "id": "f698e8a0-c41f-4310-b2b4-a37c1893a5d0",
   "metadata": {
    "tags": []
   },
   "outputs": [
    {
     "ename": "SMBTimeout",
     "evalue": "",
     "output_type": "error",
     "traceback": [
      "\u001b[0;31m---------------------------------------------------------------------------\u001b[0m",
      "\u001b[0;31mSMBTimeout\u001b[0m                                Traceback (most recent call last)",
      "Cell \u001b[0;32mIn[5], line 14\u001b[0m\n\u001b[1;32m      9\u001b[0m     \u001b[38;5;28mprint\u001b[39m(\u001b[38;5;124mf\u001b[39m\u001b[38;5;124m\"\u001b[39m\u001b[38;5;124mDirectory \u001b[39m\u001b[38;5;124m'\u001b[39m\u001b[38;5;132;01m{\u001b[39;00mrep_input_directory\u001b[38;5;132;01m}\u001b[39;00m\u001b[38;5;124m'\u001b[39m\u001b[38;5;124m created.\u001b[39m\u001b[38;5;124m\"\u001b[39m)\n\u001b[1;32m     12\u001b[0m reps_directories\u001b[38;5;241m.\u001b[39mappend(rep_input_directory)\n\u001b[0;32m---> 14\u001b[0m shared_files \u001b[38;5;241m=\u001b[39m \u001b[43mconn\u001b[49m\u001b[38;5;241;43m.\u001b[39;49m\u001b[43mlistPath\u001b[49m\u001b[43m(\u001b[49m\u001b[43mnas_share\u001b[49m\u001b[43m,\u001b[49m\u001b[43m \u001b[49m\u001b[43msmb_directory_path\u001b[49m\u001b[43m)\u001b[49m\n\u001b[1;32m     16\u001b[0m dv_paths \u001b[38;5;241m=\u001b[39m []\n\u001b[1;32m     17\u001b[0m \u001b[38;5;28;01mfor\u001b[39;00m shared_file \u001b[38;5;129;01min\u001b[39;00m shared_files:\n",
      "File \u001b[0;32m/opt/anaconda3/envs/bigfish_env/lib/python3.12/site-packages/smb/SMBConnection.py:210\u001b[0m, in \u001b[0;36mSMBConnection.listPath\u001b[0;34m(self, service_name, path, search, pattern, timeout)\u001b[0m\n\u001b[1;32m    208\u001b[0m     \u001b[38;5;28mself\u001b[39m\u001b[38;5;241m.\u001b[39m_listPath(service_name, path, cb, eb, search \u001b[38;5;241m=\u001b[39m search, pattern \u001b[38;5;241m=\u001b[39m pattern, timeout \u001b[38;5;241m=\u001b[39m timeout)\n\u001b[1;32m    209\u001b[0m     \u001b[38;5;28;01mwhile\u001b[39;00m \u001b[38;5;28mself\u001b[39m\u001b[38;5;241m.\u001b[39mis_busy:\n\u001b[0;32m--> 210\u001b[0m         \u001b[38;5;28;43mself\u001b[39;49m\u001b[38;5;241;43m.\u001b[39;49m\u001b[43m_pollForNetBIOSPacket\u001b[49m\u001b[43m(\u001b[49m\u001b[43mtimeout\u001b[49m\u001b[43m)\u001b[49m\n\u001b[1;32m    211\u001b[0m \u001b[38;5;28;01mfinally\u001b[39;00m:\n\u001b[1;32m    212\u001b[0m     \u001b[38;5;28mself\u001b[39m\u001b[38;5;241m.\u001b[39mis_busy \u001b[38;5;241m=\u001b[39m \u001b[38;5;28;01mFalse\u001b[39;00m\n",
      "File \u001b[0;32m/opt/anaconda3/envs/bigfish_env/lib/python3.12/site-packages/smb/SMBConnection.py:634\u001b[0m, in \u001b[0;36mSMBConnection._pollForNetBIOSPacket\u001b[0;34m(self, timeout)\u001b[0m\n\u001b[1;32m    632\u001b[0m ready, _, _ \u001b[38;5;241m=\u001b[39m select\u001b[38;5;241m.\u001b[39mselect([ \u001b[38;5;28mself\u001b[39m\u001b[38;5;241m.\u001b[39msock\u001b[38;5;241m.\u001b[39mfileno() ], [ ], [ ], timeout)\n\u001b[1;32m    633\u001b[0m \u001b[38;5;28;01mif\u001b[39;00m \u001b[38;5;129;01mnot\u001b[39;00m ready:\n\u001b[0;32m--> 634\u001b[0m     \u001b[38;5;28;01mraise\u001b[39;00m SMBTimeout\n\u001b[1;32m    636\u001b[0m d \u001b[38;5;241m=\u001b[39m \u001b[38;5;28mself\u001b[39m\u001b[38;5;241m.\u001b[39msock\u001b[38;5;241m.\u001b[39mrecv(read_len)\n\u001b[1;32m    637\u001b[0m \u001b[38;5;28;01mif\u001b[39;00m \u001b[38;5;28mlen\u001b[39m(d) \u001b[38;5;241m==\u001b[39m \u001b[38;5;241m0\u001b[39m:\n",
      "\u001b[0;31mSMBTimeout\u001b[0m: "
     ]
    }
   ],
   "source": [
    "reps_directories = []\n",
    "\n",
    "for smb_directory_path in reps_paths:\n",
    "    rep_name = smb_directory_path.split(os.path.sep)[-1]\n",
    "    rep_input_directory = os.path.join(local_download_directory, rep_name, 'input')\n",
    "    \n",
    "    if not os.path.exists(rep_input_directory):\n",
    "        os.makedirs(rep_input_directory)\n",
    "        print(f\"Directory '{rep_input_directory}' created.\")\n",
    "        \n",
    "    \n",
    "    reps_directories.append(rep_input_directory)\n",
    "\n",
    "    shared_files = conn.listPath(nas_share, smb_directory_path)\n",
    "\n",
    "    dv_paths = []\n",
    "    for shared_file in shared_files:\n",
    "        file_path = os.path.join(smb_directory_path, shared_file.filename) \n",
    "        if shared_file.filename.endswith(\"_R3D.dv\") or shared_file.filename.endswith(\"_R3D_REF.dv\"):\n",
    "            dv_paths.append(file_path)\n",
    "\n",
    "    filenames = [shared_file.filename for shared_file in shared_files if shared_file.filename.endswith((\"_R3D.dv\",\"_R3D_REF.dv\"))]\n",
    "\n",
    "    for remote_path in dv_paths:\n",
    "        filename = os.path.basename(remote_path)\n",
    "        local_path = os.path.join(rep_input_directory, filename)\n",
    "        with open(local_path, 'wb') as local_file:\n",
    "            conn.retrieveFile(nas_share, remote_path, local_file)\n",
    "            \n",
    "                # Create a list to store the files to be moved\n",
    "    files_to_move = []\n",
    "    image_numbers = []\n",
    "    corrupted_files = []\n",
    "    # Define a regular expression pattern to extract the numeric identifier\n",
    "    pattern = r'_([^_]+)_R3D(?:|_REF)\\.dv$'\n",
    "\n",
    "    # Iterate through the files in the directory\n",
    "    for filename in os.listdir(rep_input_directory):\n",
    "        match = re.search(pattern, filename)\n",
    "        if match:\n",
    "            # Extract the numeric identifier from the matched pattern\n",
    "            image_number = match.group(1)\n",
    "            files_to_move.append((filename, image_number))   \n",
    "\n",
    "    # Iterate through the files to be moved\n",
    "    for filename, image_number in files_to_move:\n",
    "        # Create a new folder named after the image number\n",
    "        new_folder = os.path.join(rep_input_directory, image_number)\n",
    "        os.makedirs(new_folder, exist_ok=True)\n",
    "\n",
    "        # Construct the source and destination file paths\n",
    "        source_path = os.path.join(rep_input_directory, filename)\n",
    "        destination_path = os.path.join(new_folder, filename)\n",
    "\n",
    "        # count if there are two files, and sort them in their new directories. Move the file to the new folder\n",
    "        shutil.move(source_path, destination_path)\n",
    "\n",
    "    print(f'All files organized in subdirectories')\n"
   ]
  },
  {
   "cell_type": "markdown",
   "id": "61dc6b64-baf3-4fe1-86bb-f7bf922de58f",
   "metadata": {},
   "source": [
    "#### Last edited Jan 29th 2024 by Naly Torres (version 1.0)"
   ]
  }
 ],
 "metadata": {
  "kernelspec": {
   "display_name": "Python 3 (ipykernel)",
   "language": "python",
   "name": "python3"
  },
  "language_info": {
   "codemirror_mode": {
    "name": "ipython",
    "version": 3
   },
   "file_extension": ".py",
   "mimetype": "text/x-python",
   "name": "python",
   "nbconvert_exporter": "python",
   "pygments_lexer": "ipython3",
   "version": "3.12.2"
  }
 },
 "nbformat": 4,
 "nbformat_minor": 5
}
