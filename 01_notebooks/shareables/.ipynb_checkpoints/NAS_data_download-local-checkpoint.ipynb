{
 "cells": [
  {
   "cell_type": "markdown",
   "id": "59778ea8",
   "metadata": {
    "tags": []
   },
   "source": [
    "## NAS connection and data download - local env (Version 1.0)"
   ]
  },
  {
   "cell_type": "code",
   "execution_count": 1,
   "id": "1dcb96bc-7768-4f5e-aae4-f64c5767c576",
   "metadata": {
    "jupyter": {
     "source_hidden": true
    },
    "tags": []
   },
   "outputs": [],
   "source": [
    "# Import packages\n",
    "import os\n",
    "import shutil\n",
    "from smb.SMBConnection import SMBConnection\n",
    "import tempfile\n",
    "import re\n",
    "\n",
    "import matplotlib.pyplot as plt\n",
    "import numpy as np\n",
    "\n",
    "import bigfish\n",
    "import bigfish.stack as stack"
   ]
  },
  {
   "cell_type": "markdown",
   "id": "b177955a",
   "metadata": {
    "tags": []
   },
   "source": [
    "### 1.1 Connect to the NAS"
   ]
  },
  {
   "cell_type": "code",
   "execution_count": 2,
   "id": "f0aa839b-6f4d-4039-8fb8-8794f86e40cc",
   "metadata": {},
   "outputs": [],
   "source": [
    "#specify the location of your data on the NAS\n",
    "input_directory = ' ' #/your/input/directory\n",
    "local_download_directory = ' ' #change to where you want to download your temp files\n",
    "\n",
    "# NAS credentials and connection information\n",
    "nas_host = ' ' #your_nas_server_hostname_or_ip'\n",
    "nas_user = ' ' #your_username\n",
    "nas_password = ' ' #your_password\n",
    "nas_share = ' ' #(specific for the Nishimura lab - edit accordingly)"
   ]
  },
  {
   "cell_type": "code",
   "execution_count": 3,
   "id": "f38f3aa2-7261-4c4f-a0e9-81f69a1908f2",
   "metadata": {},
   "outputs": [
    {
     "name": "stdout",
     "output_type": "stream",
     "text": [
      "Connection is established.\n"
     ]
    }
   ],
   "source": [
    "experiment_ID = input_directory.split(os.path.sep)[-1]\n",
    "local_download_directory = os.path.join(local_download_directory, experiment_ID) #change to where you want to download your temp files\n",
    "\n",
    "# Connect to the NAS\n",
    "conn = SMBConnection(nas_user, nas_password, 'python-client', nas_host, use_ntlm_v2=True)\n",
    "conn.connect(nas_host, 445)\n",
    "\n",
    "# Check if connection is successfully established\n",
    "smb_directory_path = os.path.relpath(input_directory, '/Volumes/WormHole')\n",
    "shared_files = conn.listPath(nas_share, smb_directory_path) # move into folder with raw data\n",
    "if shared_files:\n",
    "    print(\"Connection is established.\")\n",
    "else:\n",
    "    print(\"Connection is not established.\")\n",
    "    \n",
    "# #print the filenames, save in a list \n",
    "# filenames = [shared_file.filename for shared_file in shared_files if shared_file.filename.endswith((\"_R3D.dv\",\"_R3D_REF.dv\"))]\n",
    "# filenames = sorted(filenames)\n",
    "# filenames"
   ]
  },
  {
   "cell_type": "markdown",
   "id": "0224e723",
   "metadata": {
    "tags": []
   },
   "source": [
    "### 1.2 Download and organize"
   ]
  },
  {
   "cell_type": "markdown",
   "id": "210fe89e",
   "metadata": {
    "tags": []
   },
   "source": [
    "#### 1.2.1 List"
   ]
  },
  {
   "cell_type": "code",
   "execution_count": 4,
   "id": "fd502b2e",
   "metadata": {
    "tags": []
   },
   "outputs": [
    {
     "name": "stdout",
     "output_type": "stream",
     "text": [
      "Files to download: 4\n",
      "Files to download: ['231107_LP306_L4440_01_R3D.dv', '231107_LP306_L4440_01_R3D_REF.dv', '231107_LP306_L4440_02_R3D.dv', '231107_LP306_L4440_02_R3D_REF.dv']\n"
     ]
    }
   ],
   "source": [
    "# #Iterate through the files in the shared directory\n",
    "shared_files = conn.listPath(nas_share, smb_directory_path) # move into folder with raw data\n",
    "\n",
    "dv_paths = []\n",
    "for shared_file in shared_files:\n",
    "    file_path = os.path.join(smb_directory_path, shared_file.filename) \n",
    "    if shared_file.filename.endswith(\"_R3D.dv\") or shared_file.filename.endswith(\"_R3D_REF.dv\"):\n",
    "        # If it does, append it to the dv_paths list\n",
    "        dv_paths.append(file_path)\n",
    "#print(dv_paths)\n",
    "\n",
    "    \n",
    "#print the filenames (not the entire path), save in a list \n",
    "filenames = [shared_file.filename for shared_file in shared_files if shared_file.filename.endswith((\"_R3D.dv\",\"_R3D_REF.dv\"))]\n",
    "\n",
    "    \n",
    "# #Iterate through the shared_files list and print filenames that end with \"R3D.dv\" or \"R3D_REF.dv\" only\n",
    "dv_files = []\n",
    "for shared_file in shared_files:\n",
    "    filename = shared_file.filename\n",
    "    # Check if the filename ends with \".dv\" or \"d3d.dv\"\n",
    "    if filename.endswith(\"_R3D.dv\") or filename.endswith(\"_R3D_REF.dv\"):\n",
    "        # If it does, append it to the dv_files list\n",
    "        dv_files.append(\"/\" + filename)\n",
    "\n",
    "print(\"Files to download:\", len(filenames))\n",
    "print(\"Files to download:\", filenames)"
   ]
  },
  {
   "cell_type": "markdown",
   "id": "3443f01b",
   "metadata": {
    "tags": []
   },
   "source": [
    "#### 1.2.2 Download"
   ]
  },
  {
   "cell_type": "code",
   "execution_count": 5,
   "id": "4a140289",
   "metadata": {
    "tags": []
   },
   "outputs": [
    {
     "name": "stdout",
     "output_type": "stream",
     "text": [
      "4 files downloaded to:/Users/nalytorres/Documents/01_bigfish/02_data/231107_LP306_L4440/input\n"
     ]
    }
   ],
   "source": [
    "# # Download the data from the NAS to a temporary directory in my local environment for processing\n",
    "input_directory = os.path.join(local_download_directory, 'input')\n",
    "\n",
    "# # Create the local download directory if it doesn't exist\n",
    "os.makedirs(input_directory, exist_ok=True)\n",
    "# Iterate through the list of remote .dv file paths and download each one.\n",
    "# Then download the .dv file from the NAS to the local directory\n",
    "for remote_path in dv_paths:\n",
    "    filename = os.path.basename(remote_path)\n",
    "    local_path = os.path.join(input_directory, filename)\n",
    "    with open(local_path, 'wb') as local_file:\n",
    "        conn.retrieveFile(nas_share, remote_path, local_file)\n",
    "\n",
    "print(f\"{len(dv_paths)} files downloaded to:{input_directory}\") "
   ]
  },
  {
   "cell_type": "markdown",
   "id": "086ad083",
   "metadata": {
    "tags": []
   },
   "source": [
    "#### 1.2.3 Organize"
   ]
  },
  {
   "cell_type": "code",
   "execution_count": 6,
   "id": "efd2f03e",
   "metadata": {
    "tags": []
   },
   "outputs": [
    {
     "name": "stdout",
     "output_type": "stream",
     "text": [
      "All files organized in subdirectories in the 'input' directory.\n"
     ]
    }
   ],
   "source": [
    "# Create a list to store the files to be moved\n",
    "files_to_move = []\n",
    "image_numbers = []\n",
    "corrupted_files = []\n",
    "# Define a regular expression pattern to extract the numeric identifier\n",
    "pattern = r'_([^_]+)_R3D(?:|_REF)\\.dv$'\n",
    "\n",
    "# Iterate through the files in the directory\n",
    "for filename in os.listdir(input_directory):\n",
    "    match = re.search(pattern, filename)\n",
    "    if match:\n",
    "        # Extract the numeric identifier from the matched pattern\n",
    "        image_number = match.group(1)\n",
    "        files_to_move.append((filename, image_number))   \n",
    "        \n",
    "# Iterate through the files to be moved\n",
    "for filename, image_number in files_to_move:\n",
    "    # Create a new folder named after the image number\n",
    "    new_folder = os.path.join(input_directory, image_number)\n",
    "    os.makedirs(new_folder, exist_ok=True)\n",
    "    \n",
    "    # Construct the source and destination file paths\n",
    "    source_path = os.path.join(input_directory, filename)\n",
    "    destination_path = os.path.join(new_folder, filename)\n",
    "    \n",
    "    # count if there are two files, and sort them in their new directories. Move the file to the new folder\n",
    "    shutil.move(source_path, destination_path)\n",
    "    #print(f\"Moved '({filename})' to '{image_number}'\")\n",
    "\n",
    "print(\"All files organized in subdirectories in the 'input' directory.\")"
   ]
  }
 ],
 "metadata": {
  "kernelspec": {
   "display_name": "Python 3 (ipykernel)",
   "language": "python",
   "name": "python3"
  },
  "language_info": {
   "codemirror_mode": {
    "name": "ipython",
    "version": 3
   },
   "file_extension": ".py",
   "mimetype": "text/x-python",
   "name": "python",
   "nbconvert_exporter": "python",
   "pygments_lexer": "ipython3",
   "version": "3.12.2"
  }
 },
 "nbformat": 4,
 "nbformat_minor": 5
}
