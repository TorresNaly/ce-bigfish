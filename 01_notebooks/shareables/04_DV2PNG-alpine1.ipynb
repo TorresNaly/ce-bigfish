{
 "cells": [
  {
   "cell_type": "markdown",
   "metadata": {
    "tags": []
   },
   "source": [
    "#### FISH Image Converter (v 1.0)"
   ]
  },
  {
   "cell_type": "markdown",
   "metadata": {},
   "source": [
    "### Input Image info:"
   ]
  },
  {
   "cell_type": "code",
   "execution_count": 1,
   "metadata": {},
   "outputs": [],
   "source": [
    "#specify where the directory of the data\n",
    "local_download_directory = '/scratch/alpine/naly@colostate.edu/bigfish/erm-1_ERM-1-png-test/280829_erm-1_ERM-1' \n",
    "\n",
    "#specify what you have in every channel\n",
    "Cy5 = \"set-3 mRNA\" #(asymmetrical control)\n",
    "mCherry = \"erm-1 mRNA\" #(query mRNA)\n",
    "FITC = \"membrane\" #(ignore in this case) This is where protein markers usually go.\n",
    "DAPI = \"DAPI\"\n"
   ]
  },
  {
   "cell_type": "code",
   "execution_count": 2,
   "metadata": {
    "tags": []
   },
   "outputs": [],
   "source": [
    "# Import packages\n",
    "import os\n",
    "import shutil\n",
    "import bigfish.stack as stack\n",
    "\n",
    "#import packages:\n",
    "import os\n",
    "import matplotlib.pyplot as plt\n",
    "import numpy as np\n",
    "\n",
    "import tifffile\n",
    "import bigfish\n",
    "import bigfish.stack as stack\n",
    "import bigfish.plot as plot\n",
    "import bigfish.multistack as multistack\n",
    "import bigfish.detection as detection\n"
   ]
  },
  {
   "cell_type": "markdown",
   "metadata": {},
   "source": [
    "#### 1.2 Read images"
   ]
  },
  {
   "cell_type": "code",
   "execution_count": 3,
   "metadata": {},
   "outputs": [
    {
     "name": "stdout",
     "output_type": "stream",
     "text": [
      "Images read: 16\n"
     ]
    }
   ],
   "source": [
    "#Specify where the data will be stored\n",
    "folder_name = local_download_directory.split(os.path.sep)[-1]\n",
    "input_directory = os.path.join(local_download_directory, 'input')\n",
    "output_directory = os.path.join(local_download_directory, 'images')\n",
    "\n",
    "# Get a list of subdirectories within local_download_directory\n",
    "subdirectories = [item for item in sorted(os.listdir(input_directory)) if item != '.ipynb_checkpoints' if os.path.isdir(os.path.join(input_directory, item))]\n",
    "\n",
    "subdirectory_paths = []\n",
    "for subdirectory in subdirectories:\n",
    "    subdirectory_path = os.path.join(local_download_directory, subdirectory)\n",
    "    subdirectory_paths.append(subdirectory_path)\n",
    "\n",
    "# Iterate through the subdirectories and store their path in a list\n",
    "input_subdirectory_paths = []\n",
    "for subdirectory in subdirectories:\n",
    "    input_subdirectory_path = os.path.join(input_directory, subdirectory)\n",
    "    input_subdirectory_paths.append(input_subdirectory_path)\n",
    "\n",
    "# Iterate through each subdirectory path\n",
    "all_image_stacks = []\n",
    "\n",
    "for input_subdirectory_path in input_subdirectory_paths:\n",
    "    files = [os.path.join(input_subdirectory_path, item) for item in os.listdir(input_subdirectory_path)]\n",
    "    \n",
    "    # Check if exactly 2 files with the specified names are present\n",
    "    if len(files) == 2 and any(file.endswith(\"R3D_REF.dv\") for file in files) and any(file.endswith(\"R3D.dv\") for file in files):\n",
    "        files = sorted(files)\n",
    "        \n",
    "        # Store all image stacks in a list\n",
    "        subdirectory_image_stacks = []\n",
    "        for file_path in files:\n",
    "            image_stack = stack.read_dv(file_path, sanity_check=False)\n",
    "            subdirectory_image_stacks.append(image_stack)\n",
    "        all_image_stacks.append(subdirectory_image_stacks)\n",
    "        \n",
    "    else:\n",
    "        print(f\"corrupted: {subdirectory_path}\")\n",
    "        # Copy the entire corrupted directory to the 'corrupted_files' directory\n",
    "        corrupted_path = os.path.join(local_download_directory, 'corrupted_files')\n",
    "        corrupted_subdirectory = os.path.basename(subdirectory_path)\n",
    "        corrupted_destination = os.path.join(corrupted_path, corrupted_subdirectory)\n",
    "        shutil.move(subdirectory_path, corrupted_destination)\n",
    "        continue\n",
    "\n",
    "# Now, all_image_stacks contains the image data from all the .dv files, organized by subdirectory.\n",
    "print(f'Images read: {len(all_image_stacks)}')\n"
   ]
  },
  {
   "cell_type": "code",
   "execution_count": 4,
   "metadata": {},
   "outputs": [
    {
     "data": {
      "text/plain": [
       "['01',\n",
       " '02',\n",
       " '03',\n",
       " '04',\n",
       " '05',\n",
       " '06',\n",
       " '07',\n",
       " '08',\n",
       " '09',\n",
       " '10',\n",
       " '11',\n",
       " '12',\n",
       " '13',\n",
       " '14',\n",
       " '15',\n",
       " '16']"
      ]
     },
     "execution_count": 4,
     "metadata": {},
     "output_type": "execute_result"
    }
   ],
   "source": [
    "subdirectories"
   ]
  },
  {
   "cell_type": "code",
   "execution_count": 5,
   "metadata": {},
   "outputs": [
    {
     "name": "stdout",
     "output_type": "stream",
     "text": [
      "Images in /scratch/alpine/naly@colostate.edu/bigfish/erm-1_ERM-1-png-test/280829_erm-1_ERM-1/images\n"
     ]
    }
   ],
   "source": [
    "#SAve images as png\n",
    "all_channel_list = []\n",
    "\n",
    "# Iterate through the subdirectories and store their path in a list\n",
    "output_subdirectory_paths = []\n",
    "for subdirectory in subdirectories:\n",
    "    os.makedirs(output_directory, exist_ok=True)\n",
    "    output_subdirectory_path = os.path.join(output_directory, subdirectory)\n",
    "    os.makedirs(output_subdirectory_path, exist_ok=True)\n",
    "    output_subdirectory_paths.append(output_subdirectory_path)\n",
    "\n",
    "# Now iterate through all_image_stacks and extract the images\n",
    "for i, stack in enumerate(all_image_stacks):\n",
    "    image_colors = stack[0]\n",
    "\n",
    "    # Assuming image_colors is a 4D array where the first dimension represents different channels\n",
    "    for channel_index in range(image_colors.shape[0]):\n",
    "        current_image = image_colors[channel_index, :, :]\n",
    "        all_channel_list.append(current_image)\n",
    "\n",
    "        # Save each image as a PNG file\n",
    "        channel_name = None\n",
    "        if channel_index == 0:\n",
    "            channel_name = Cy5\n",
    "        elif channel_index == 1:\n",
    "            channel_name = mCherry\n",
    "        elif channel_index == 2:\n",
    "            channel_name = FITC\n",
    "        elif channel_index == 3:\n",
    "            channel_name = DAPI\n",
    "\n",
    "        # Save each image as a PNG file\n",
    "        plot_filename = os.path.join(output_subdirectory_paths[i], f\"{subdirectories[i]}_{channel_name}.png\")\n",
    "        plt.imsave(plot_filename, np.max(current_image, axis=0), cmap='gray')  # Adjust cmap if needed\n",
    "\n",
    "\n",
    "# For example, you can use the images in the plot function\n",
    "def plot(all_channel_list):\n",
    "    # Create subplots for each image in the list\n",
    "    num_images = len(all_channel_list)\n",
    "    fig, ax = plt.subplots(1, num_images, figsize=(24, 5))\n",
    "\n",
    "    for i, image in enumerate(all_channel_list):\n",
    "        ax[i].imshow(np.max(image, axis=0))\n",
    "        ax[i].set_title(f\"Image {i}\")\n",
    "        ax[i].axis('off')\n",
    "\n",
    "print(f\"Images in {output_directory}\")\n"
   ]
  },
  {
   "cell_type": "code",
   "execution_count": 6,
   "metadata": {},
   "outputs": [],
   "source": [
    "#Need to also save each brightfield as a png. \n",
    "\n"
   ]
  }
 ],
 "metadata": {
  "kernelspec": {
   "display_name": "bigfish_env",
   "language": "python",
   "name": "bigfish_env"
  },
  "language_info": {
   "codemirror_mode": {
    "name": "ipython",
    "version": 3
   },
   "file_extension": ".py",
   "mimetype": "text/x-python",
   "name": "python",
   "nbconvert_exporter": "python",
   "pygments_lexer": "ipython3",
   "version": "3.8.17"
  }
 },
 "nbformat": 4,
 "nbformat_minor": 5
}
